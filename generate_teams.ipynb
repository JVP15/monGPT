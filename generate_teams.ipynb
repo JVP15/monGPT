{
 "cells": [
  {
   "cell_type": "code",
   "execution_count": 1,
   "metadata": {
    "collapsed": true,
    "pycharm": {
     "name": "#%%\n"
    }
   },
   "outputs": [],
   "source": [
    "from team_generator import get_moves, get_item, get_ability"
   ]
  },
  {
   "cell_type": "code",
   "execution_count": 2,
   "outputs": [
    {
     "data": {
      "text/plain": "array(['knockoff', 'spikes', 'stealthrock', 'powerwhip'], dtype='<U12')"
     },
     "execution_count": 2,
     "metadata": {},
     "output_type": "execute_result"
    }
   ],
   "source": [
    "get_moves('Ferrothorn')"
   ],
   "metadata": {
    "collapsed": false,
    "pycharm": {
     "name": "#%%\n"
    }
   }
  },
  {
   "cell_type": "code",
   "execution_count": 8,
   "outputs": [
    {
     "data": {
      "text/plain": "'bigroot'"
     },
     "execution_count": 8,
     "metadata": {},
     "output_type": "execute_result"
    }
   ],
   "source": [
    "get_item('Ferrothorn', sharpen_percent=0.001)"
   ],
   "metadata": {
    "collapsed": false,
    "pycharm": {
     "name": "#%%\n"
    }
   }
  },
  {
   "cell_type": "code",
   "execution_count": 4,
   "outputs": [
    {
     "data": {
      "text/plain": "'ironbarbs'"
     },
     "execution_count": 4,
     "metadata": {},
     "output_type": "execute_result"
    }
   ],
   "source": [
    "get_ability('Ferrothorn')"
   ],
   "metadata": {
    "collapsed": false,
    "pycharm": {
     "name": "#%%\n"
    }
   }
  },
  {
   "cell_type": "markdown",
   "source": [
    "Now lets generating some teams"
   ],
   "metadata": {
    "collapsed": false,
    "pycharm": {
     "name": "#%% md\n"
    }
   }
  },
  {
   "cell_type": "code",
   "execution_count": 5,
   "outputs": [
    {
     "name": "stdout",
     "output_type": "stream",
     "text": [
      "number of parameters: 0.11M\n"
     ]
    },
    {
     "data": {
      "text/plain": "GPT(\n  (transformer): ModuleDict(\n    (wte): Embedding(417, 48)\n    (wpe): Embedding(11, 48)\n    (drop): Dropout(p=0.1, inplace=False)\n    (h): ModuleList(\n      (0): Block(\n        (ln_1): LayerNorm((48,), eps=1e-05, elementwise_affine=True)\n        (attn): CausalSelfAttention(\n          (c_attn): Linear(in_features=48, out_features=144, bias=True)\n          (c_proj): Linear(in_features=48, out_features=48, bias=True)\n          (attn_dropout): Dropout(p=0.1, inplace=False)\n          (resid_dropout): Dropout(p=0.1, inplace=False)\n        )\n        (ln_2): LayerNorm((48,), eps=1e-05, elementwise_affine=True)\n        (mlp): ModuleDict(\n          (c_fc): Linear(in_features=48, out_features=192, bias=True)\n          (c_proj): Linear(in_features=192, out_features=48, bias=True)\n          (act): NewGELU()\n          (dropout): Dropout(p=0.1, inplace=False)\n        )\n      )\n      (1): Block(\n        (ln_1): LayerNorm((48,), eps=1e-05, elementwise_affine=True)\n        (attn): CausalSelfAttention(\n          (c_attn): Linear(in_features=48, out_features=144, bias=True)\n          (c_proj): Linear(in_features=48, out_features=48, bias=True)\n          (attn_dropout): Dropout(p=0.1, inplace=False)\n          (resid_dropout): Dropout(p=0.1, inplace=False)\n        )\n        (ln_2): LayerNorm((48,), eps=1e-05, elementwise_affine=True)\n        (mlp): ModuleDict(\n          (c_fc): Linear(in_features=48, out_features=192, bias=True)\n          (c_proj): Linear(in_features=192, out_features=48, bias=True)\n          (act): NewGELU()\n          (dropout): Dropout(p=0.1, inplace=False)\n        )\n      )\n      (2): Block(\n        (ln_1): LayerNorm((48,), eps=1e-05, elementwise_affine=True)\n        (attn): CausalSelfAttention(\n          (c_attn): Linear(in_features=48, out_features=144, bias=True)\n          (c_proj): Linear(in_features=48, out_features=48, bias=True)\n          (attn_dropout): Dropout(p=0.1, inplace=False)\n          (resid_dropout): Dropout(p=0.1, inplace=False)\n        )\n        (ln_2): LayerNorm((48,), eps=1e-05, elementwise_affine=True)\n        (mlp): ModuleDict(\n          (c_fc): Linear(in_features=48, out_features=192, bias=True)\n          (c_proj): Linear(in_features=192, out_features=48, bias=True)\n          (act): NewGELU()\n          (dropout): Dropout(p=0.1, inplace=False)\n        )\n      )\n    )\n    (ln_f): LayerNorm((48,), eps=1e-05, elementwise_affine=True)\n  )\n  (lm_head): Linear(in_features=48, out_features=417, bias=False)\n)"
     },
     "execution_count": 5,
     "metadata": {},
     "output_type": "execute_result"
    }
   ],
   "source": [
    "from mongpt.model import GPT\n",
    "from team_generator import generate_team, team_to_string, pokemon_names\n",
    "import torch\n",
    "\n",
    "# load the model\n",
    "model_config = GPT.get_default_config()\n",
    "model_config.model_type = 'gpt-nano'\n",
    "model_config.vocab_size = len(pokemon_names)\n",
    "model_config.block_size = 11 # this is just a fixed value\n",
    "model = GPT(model_config)\n",
    "\n",
    "# load the weights\n",
    "model.load_state_dict(torch.load('models/monGPT.pt'))\n",
    "\n",
    "model.to('cuda')\n",
    "model.eval()"
   ],
   "metadata": {
    "collapsed": false,
    "pycharm": {
     "name": "#%%\n"
    }
   }
  },
  {
   "cell_type": "code",
   "execution_count": 6,
   "outputs": [
    {
     "data": {
      "text/plain": "[{'pokemon': 'Gastrodon',\n  'name': 'Gastrodon',\n  'moves': array(['toxic', 'earthpower', 'scald', 'recover'], dtype='<U15'),\n  'ability': 'stormdrain',\n  'item': 'leftovers',\n  'spread': 'Calm:252/0/4/0/252/0'},\n {'pokemon': 'Landorus-Therian',\n  'name': 'Landorus-Therian',\n  'moves': array(['uturn', 'knockoff', 'stealthrock', 'defog'], dtype='<U12'),\n  'ability': 'intimidate',\n  'item': 'choicescarf',\n  'spread': 'Jolly:0/252/4/0/0/252'},\n {'pokemon': 'Blissey',\n  'name': 'Blissey',\n  'moves': array(['stealthrock', 'healbell', 'softboiled', 'teleport'], dtype='<U15'),\n  'ability': 'naturalcure',\n  'item': 'heavydutyboots',\n  'spread': 'Bold:252/0/252/0/4/0'},\n {'pokemon': 'Buzzwole',\n  'name': 'Buzzwole',\n  'moves': array(['earthquake', 'roost', 'leechlife', 'icepunch'], dtype='<U15'),\n  'ability': 'beastboost',\n  'item': 'lifeorb',\n  'spread': 'Jolly:0/252/0/0/4/252'},\n {'pokemon': 'Mew',\n  'name': 'Mew',\n  'moves': array(['bodypress', 'closecombat', 'storedpower', 'spikes'], dtype='<U15'),\n  'ability': 'synchronize',\n  'item': 'heavydutyboots',\n  'spread': 'Timid:0/0/0/252/4/252'},\n {'pokemon': 'Tapu Fini',\n  'name': 'Tapu Fini',\n  'moves': array(['taunt', 'calmmind', 'trick', 'naturesmadness'], dtype='<U14'),\n  'ability': 'mistysurge',\n  'item': 'choicescarf',\n  'spread': 'Bold:252/0/116/0/0/140'}]"
     },
     "execution_count": 6,
     "metadata": {},
     "output_type": "execute_result"
    }
   ],
   "source": [
    "# generate a team\n",
    "team = generate_team(model, [])\n",
    "team"
   ],
   "metadata": {
    "collapsed": false,
    "pycharm": {
     "name": "#%%\n"
    }
   }
  },
  {
   "cell_type": "code",
   "execution_count": 7,
   "outputs": [
    {
     "name": "stdout",
     "output_type": "stream",
     "text": [
      "Gastrodon @ leftovers\n",
      "Ability: stormdrain\n",
      "EVs: 252 HP / 0 Atk / 4 Def / 0 SpA / 252 SpD / 0 Spe\n",
      "Calm Nature\n",
      "- toxic\n",
      "- earthpower\n",
      "- scald\n",
      "- recover\n",
      "\n",
      "Landorus-Therian @ choicescarf\n",
      "Ability: intimidate\n",
      "EVs: 0 HP / 252 Atk / 4 Def / 0 SpA / 0 SpD / 252 Spe\n",
      "Jolly Nature\n",
      "- uturn\n",
      "- knockoff\n",
      "- stealthrock\n",
      "- defog\n",
      "\n",
      "Blissey @ heavydutyboots\n",
      "Ability: naturalcure\n",
      "EVs: 252 HP / 0 Atk / 252 Def / 0 SpA / 4 SpD / 0 Spe\n",
      "Bold Nature\n",
      "- stealthrock\n",
      "- healbell\n",
      "- softboiled\n",
      "- teleport\n",
      "\n",
      "Buzzwole @ lifeorb\n",
      "Ability: beastboost\n",
      "EVs: 0 HP / 252 Atk / 0 Def / 0 SpA / 4 SpD / 252 Spe\n",
      "Jolly Nature\n",
      "- earthquake\n",
      "- roost\n",
      "- leechlife\n",
      "- icepunch\n",
      "\n",
      "Mew @ heavydutyboots\n",
      "Ability: synchronize\n",
      "EVs: 0 HP / 0 Atk / 0 Def / 252 SpA / 4 SpD / 252 Spe\n",
      "Timid Nature\n",
      "- bodypress\n",
      "- closecombat\n",
      "- storedpower\n",
      "- spikes\n",
      "\n",
      "Tapu Fini @ choicescarf\n",
      "Ability: mistysurge\n",
      "EVs: 252 HP / 0 Atk / 116 Def / 0 SpA / 0 SpD / 140 Spe\n",
      "Bold Nature\n",
      "- taunt\n",
      "- calmmind\n",
      "- trick\n",
      "- naturesmadness\n",
      "\n",
      "\n"
     ]
    }
   ],
   "source": [
    "# now print the showdown string\n",
    "print(team_to_string(team))"
   ],
   "metadata": {
    "collapsed": false,
    "pycharm": {
     "name": "#%%\n"
    }
   }
  },
  {
   "cell_type": "code",
   "execution_count": 9,
   "outputs": [
    {
     "name": "stdout",
     "output_type": "stream",
     "text": [
      "Pelipper @ choicespecs\n",
      "Ability: drizzle\n",
      "EVs: 248 HP / 0 Atk / 0 Def / 252 SpA / 8 SpD / 0 Spe\n",
      "Modest Nature\n",
      "- uturn\n",
      "- roost\n",
      "- scald\n",
      "- hurricane\n",
      "\n",
      "Seismitoad @ lifeorb\n",
      "Ability: swiftswim\n",
      "EVs: 0 HP / 0 Atk / 0 Def / 252 SpA / 4 SpD / 252 Spe\n",
      "Modest Nature\n",
      "- earthquake\n",
      "- toxic\n",
      "- powerwhip\n",
      "- liquidation\n",
      "\n",
      "Barraskewda @ lifeorb\n",
      "Ability: swiftswim\n",
      "EVs: 0 HP / 252 Atk / 4 Def / 0 SpA / 0 SpD / 252 Spe\n",
      "Adamant Nature\n",
      "- flipturn\n",
      "- poisonjab\n",
      "- crunch\n",
      "- psychicfangs\n",
      "\n",
      "Ferrothorn @ rockyhelmet\n",
      "Ability: ironbarbs\n",
      "EVs: 248 HP / 8 Atk / 252 Def / 0 SpA / 0 SpD / 0 Spe\n",
      "Impish Nature\n",
      "- protect\n",
      "- leechseed\n",
      "- bodypress\n",
      "- stealthrock\n",
      "\n",
      "Tapu Fini @ weaknesspolicy\n",
      "Ability: mistysurge\n",
      "EVs: 252 HP / 0 Atk / 216 Def / 0 SpA / 40 SpD / 0 Spe\n",
      "Calm Nature\n",
      "- moonblast\n",
      "- defog\n",
      "- drainingkiss\n",
      "- calmmind\n",
      "\n",
      "Zapdos @ heavydutyboots\n",
      "Ability: static\n",
      "EVs: 248 HP / 0 Atk / 0 Def / 252 SpA / 8 SpD / 0 Spe\n",
      "Modest Nature\n",
      "- discharge\n",
      "- voltswitch\n",
      "- roost\n",
      "- heatwave\n",
      "\n",
      "\n"
     ]
    }
   ],
   "source": [
    "# generate another team starting with pelipper\n",
    "team = generate_team(model, ['Pelipper'])\n",
    "print(team_to_string(team))"
   ],
   "metadata": {
    "collapsed": false,
    "pycharm": {
     "name": "#%%\n"
    }
   }
  },
  {
   "cell_type": "code",
   "execution_count": 11,
   "outputs": [
    {
     "name": "stdout",
     "output_type": "stream",
     "text": [
      "Venusaur @ lifeorb\n",
      "Ability: chlorophyll\n",
      "EVs: 0 HP / 0 Atk / 0 Def / 252 SpA / 4 SpD / 252 Spe\n",
      "Modest Nature\n",
      "- leechseed\n",
      "- sludgebomb\n",
      "- growth\n",
      "- gigadrain\n",
      "\n",
      "Torkoal @ heatrock\n",
      "Ability: drought\n",
      "EVs: 248 HP / 0 Atk / 252 Def / 8 SpA / 0 SpD / 0 Spe\n",
      "Bold Nature\n",
      "- eruption\n",
      "- bodypress\n",
      "- stealthrock\n",
      "- rapidspin\n",
      "\n",
      "Dragonite @ choiceband\n",
      "Ability: multiscale\n",
      "EVs: 0 HP / 252 Atk / 0 Def / 0 SpA / 4 SpD / 252 Spe\n",
      "Adamant Nature\n",
      "- extremespeed\n",
      "- icepunch\n",
      "- earthquake\n",
      "- defog\n",
      "\n",
      "Blissey @ heavydutyboots\n",
      "Ability: naturalcure\n",
      "EVs: 252 HP / 0 Atk / 252 Def / 0 SpA / 4 SpD / 0 Spe\n",
      "Bold Nature\n",
      "- healbell\n",
      "- softboiled\n",
      "- stealthrock\n",
      "- seismictoss\n",
      "\n",
      "Dragapult @ leftovers\n",
      "Ability: clearbody\n",
      "EVs: 0 HP / 252 Atk / 0 Def / 0 SpA / 4 SpD / 252 Spe\n",
      "Adamant Nature\n",
      "- shadowball\n",
      "- uturn\n",
      "- hex\n",
      "- suckerpunch\n",
      "\n",
      "Landorus-Therian @ rockyhelmet\n",
      "Ability: intimidate\n",
      "EVs: 248 HP / 0 Atk / 8 Def / 0 SpA / 252 SpD / 0 Spe\n",
      "Careful Nature\n",
      "- toxic\n",
      "- earthquake\n",
      "- stoneedge\n",
      "- defog\n",
      "\n",
      "\n"
     ]
    }
   ],
   "source": [
    "team = generate_team(model, ['Venusaur'])\n",
    "print(team_to_string(team))"
   ],
   "metadata": {
    "collapsed": false,
    "pycharm": {
     "name": "#%%\n"
    }
   }
  }
 ],
 "metadata": {
  "kernelspec": {
   "display_name": "Python 3",
   "language": "python",
   "name": "python3"
  },
  "language_info": {
   "codemirror_mode": {
    "name": "ipython",
    "version": 2
   },
   "file_extension": ".py",
   "mimetype": "text/x-python",
   "name": "python",
   "nbconvert_exporter": "python",
   "pygments_lexer": "ipython2",
   "version": "2.7.6"
  }
 },
 "nbformat": 4,
 "nbformat_minor": 0
}