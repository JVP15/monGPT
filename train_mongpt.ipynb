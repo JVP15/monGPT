{
 "cells": [
  {
   "cell_type": "markdown",
   "source": [
    "# 'monGPT\n",
    "\n",
    "This program builds plausible gen 8 ou teams using minGPT"
   ],
   "metadata": {
    "collapsed": false
   }
  },
  {
   "cell_type": "code",
   "execution_count": 1,
   "metadata": {
    "collapsed": true
   },
   "outputs": [],
   "source": [
    "import os\n",
    "\n",
    "import torch\n",
    "from mongpt_dataset import PokemonDataset, RandomizeTeamWrapper, InputTeamWrapper, GPTTeamWrapper\n",
    "from team_generator import fill_pokemon_team\n",
    "\n",
    "from mongpt.model import GPT\n",
    "from mongpt.trainer import Trainer"
   ]
  },
  {
   "cell_type": "code",
   "execution_count": 2,
   "outputs": [
    {
     "name": "stderr",
     "output_type": "stream",
     "text": [
      "Loading replays: 932it [00:00, 7234.61it/s]            \n"
     ]
    }
   ],
   "source": [
    "save_dir = 'models'\n",
    "os.makedirs(save_dir, exist_ok=True)\n",
    "\n",
    "# load the dataset\n",
    "dataset = PokemonDataset('dataset/replays')\n",
    "dataset = RandomizeTeamWrapper(dataset)\n",
    "dataset = InputTeamWrapper(dataset, num_input_pokemon=[1,2,3])\n",
    "dataset = GPTTeamWrapper(dataset)"
   ],
   "metadata": {
    "collapsed": false
   }
  },
  {
   "cell_type": "code",
   "execution_count": 3,
   "outputs": [
    {
     "name": "stdout",
     "output_type": "stream",
     "text": [
      "number of parameters: 0.11M\n"
     ]
    }
   ],
   "source": [
    "# create the minGPT model\n",
    "\n",
    "model_config = GPT.get_default_config()\n",
    "model_config.model_type = 'gpt-nano'\n",
    "model_config.vocab_size = dataset.get_vocab_size()\n",
    "model_config.block_size = dataset.get_block_size()\n",
    "model = GPT(model_config)"
   ],
   "metadata": {
    "collapsed": false
   }
  },
  {
   "cell_type": "code",
   "execution_count": 4,
   "outputs": [
    {
     "name": "stdout",
     "output_type": "stream",
     "text": [
      "running on device cuda\n"
     ]
    }
   ],
   "source": [
    "# create the trainer\n",
    "\n",
    "train_config = Trainer.get_default_config()\n",
    "train_config.learning_rate = 5e-4 # the model we're using is so small that we can go a bit faster\n",
    "train_config.max_iters = 2000\n",
    "trainer = Trainer(train_config, model, dataset)"
   ],
   "metadata": {
    "collapsed": false
   }
  },
  {
   "cell_type": "code",
   "execution_count": 5,
   "outputs": [
    {
     "name": "stdout",
     "output_type": "stream",
     "text": [
      "iter_dt 0.00ms; iter 0: train loss 6.02693\n",
      "iter_dt 7.00ms; iter 100: train loss 4.98562\n",
      "iter_dt 7.00ms; iter 200: train loss 4.79757\n",
      "iter_dt 7.00ms; iter 300: train loss 4.74014\n",
      "iter_dt 8.00ms; iter 400: train loss 4.57710\n",
      "iter_dt 7.00ms; iter 500: train loss 4.49076\n",
      "iter_dt 7.00ms; iter 600: train loss 4.29716\n",
      "iter_dt 7.00ms; iter 700: train loss 4.37394\n",
      "iter_dt 7.00ms; iter 800: train loss 4.36536\n",
      "iter_dt 7.00ms; iter 900: train loss 4.34426\n",
      "iter_dt 7.00ms; iter 1000: train loss 4.30566\n",
      "iter_dt 1408.09ms; iter 1100: train loss 4.20168\n",
      "iter_dt 7.00ms; iter 1200: train loss 3.90369\n",
      "iter_dt 8.00ms; iter 1300: train loss 4.18152\n",
      "iter_dt 6.00ms; iter 1400: train loss 4.12491\n",
      "iter_dt 7.00ms; iter 1500: train loss 4.14398\n",
      "iter_dt 10.00ms; iter 1600: train loss 4.19459\n",
      "iter_dt 7.00ms; iter 1700: train loss 4.02980\n",
      "iter_dt 8.00ms; iter 1800: train loss 4.07113\n",
      "iter_dt 6.00ms; iter 1900: train loss 4.01500\n"
     ]
    }
   ],
   "source": [
    "def batch_end_callback(trainer):\n",
    "    if trainer.iter_num % 100 == 0:\n",
    "        print(f\"iter_dt {trainer.iter_dt * 1000:.2f}ms; iter {trainer.iter_num}: train loss {trainer.loss.item():.5f}\")\n",
    "trainer.set_callback('on_batch_end', batch_end_callback)\n",
    "\n",
    "trainer.run()"
   ],
   "metadata": {
    "collapsed": false
   }
  },
  {
   "cell_type": "code",
   "execution_count": 6,
   "outputs": [],
   "source": [
    "# save the model\n",
    "torch.save(model.state_dict(), os.path.join(save_dir, 'monGPT.pt'))"
   ],
   "metadata": {
    "collapsed": false
   }
  },
  {
   "cell_type": "markdown",
   "source": [
    "# Evaluation\n",
    "\n",
    "Now, lets see how well the model can generate teams"
   ],
   "metadata": {
    "collapsed": false
   }
  },
  {
   "cell_type": "code",
   "execution_count": 7,
   "outputs": [
    {
     "name": "stdout",
     "output_type": "stream",
     "text": [
      "['Blissey', 'Garchomp', 'Rillaboom', 'Heatran', 'Magnezone', 'Corviknight']\n"
     ]
    }
   ],
   "source": [
    "# generate a few teams\n",
    "team = ['Blissey', 'Garchomp']\n",
    "print(fill_pokemon_team(team, model))"
   ],
   "metadata": {
    "collapsed": false
   }
  },
  {
   "cell_type": "code",
   "execution_count": 8,
   "outputs": [
    {
     "name": "stdout",
     "output_type": "stream",
     "text": [
      "['Magnezone', 'Tapu Lele', 'Ferrothorn', 'Ditto', 'Blissey', 'Mew']\n"
     ]
    }
   ],
   "source": [
    "team = ['Magnezone', 'Tapu Lele', 'Ferrothorn']\n",
    "print(fill_pokemon_team(team, model))"
   ],
   "metadata": {
    "collapsed": false
   }
  },
  {
   "cell_type": "code",
   "execution_count": 9,
   "outputs": [
    {
     "name": "stdout",
     "output_type": "stream",
     "text": [
      "['Venusaur', 'Slowking-Galar', 'Corviknight', 'Urshifu-Rapid-Strike', 'Blissey', 'Landorus-Therian']\n"
     ]
    }
   ],
   "source": [
    "team = ['Venusaur']\n",
    "print(fill_pokemon_team(team, model))"
   ],
   "metadata": {
    "collapsed": false
   }
  },
  {
   "cell_type": "code",
   "execution_count": 10,
   "outputs": [
    {
     "name": "stdout",
     "output_type": "stream",
     "text": [
      "['Ferrothorn', 'Zapdos', 'Pelipper', 'Landorus-Therian', 'Urshifu-Rapid-Strike', 'Rotom-Wash']\n"
     ]
    }
   ],
   "source": [
    "team = []\n",
    "print(fill_pokemon_team(team, model))"
   ],
   "metadata": {
    "collapsed": false
   }
  },
  {
   "cell_type": "code",
   "execution_count": 10,
   "outputs": [],
   "source": [],
   "metadata": {
    "collapsed": false
   }
  }
 ],
 "metadata": {
  "kernelspec": {
   "display_name": "Python 3",
   "language": "python",
   "name": "python3"
  },
  "language_info": {
   "codemirror_mode": {
    "name": "ipython",
    "version": 2
   },
   "file_extension": ".py",
   "mimetype": "text/x-python",
   "name": "python",
   "nbconvert_exporter": "python",
   "pygments_lexer": "ipython2",
   "version": "2.7.6"
  }
 },
 "nbformat": 4,
 "nbformat_minor": 0
}
